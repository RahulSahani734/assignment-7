{
 "cells": [
  {
   "cell_type": "markdown",
   "id": "e2c2d030-8f54-4b48-b5ab-553af9f9d09c",
   "metadata": {},
   "source": [
    "ANSWER 1"
   ]
  },
  {
   "cell_type": "code",
   "execution_count": null,
   "id": "5c3a4286-c9c6-4c4a-b750-6b169e32ca87",
   "metadata": {},
   "outputs": [],
   "source": [
    " Database is an structural collection of data which is used in many applications and to sotre big amount of data it allows to manage ,retreve\n",
    "and to manuplate the data. as we know commiting changes or accesing big amount of data is too tough so here database comes under the role , it\n",
    "make accesing ,updating , and deleting of data easy.\n",
    "\n",
    "Differentiate between SQL and NoSQL databases.\n",
    "\n",
    "SQL (Structured Query Language) and NoSQL (Not Only SQL) are two different types of database management systems that differ in their data models,\n",
    "query languages, and underlying architectures:"
   ]
  },
  {
   "cell_type": "code",
   "execution_count": null,
   "id": "1b481c8c-c64f-419b-a60e-04f3e98b4ea5",
   "metadata": {},
   "outputs": [],
   "source": [
    "SQL Databases:\n",
    "\n",
    "SQL databases are based on the relational data model, which organizes data into tables with predefined schema and relationships.\n",
    "They use SQL as the standard query language for defining and manipulating data.\n",
    "SQL databases ensure data integrity by enforcing constraints and supporting transactions.\n",
    "They provide a structured approach to data management and are suitable for applications with well-defined schemas and complex relationships.\n",
    "Examples of SQL databases include MySQL, PostgreSQL, Oracle, and Microsoft SQL Server."
   ]
  },
  {
   "cell_type": "code",
   "execution_count": null,
   "id": "9de85015-9a8b-4afc-9730-97239c2743f0",
   "metadata": {},
   "outputs": [],
   "source": [
    "NoSQL Databases:\n",
    "\n",
    "NoSQL databases employ flexible data models that do not rely on fixed schemas.\n",
    "They offer a variety of data models, including key-value stores, document databases, columnar databases, and graph databases.\n",
    "NoSQL databases use various query languages specific to their data model, which may differ from traditional SQL.\n",
    "They are designed to handle large-scale distributed systems and provide high scalability and performance.\n",
    "NoSQL databases are often used for applications with rapidly changing or unstructured data, such as social networks, real-time analytics, \n",
    "and content management systems.\n",
    "Popular NoSQL databases include MongoDB, Cassandra, Redis, Couchbase, and Neo4j"
   ]
  },
  {
   "cell_type": "code",
   "execution_count": null,
   "id": "b448d1a7-fc3e-48fc-a43c-71505ee03ab0",
   "metadata": {},
   "outputs": [],
   "source": []
  },
  {
   "cell_type": "markdown",
   "id": "86ddf4bc-7faf-4b6f-8bb0-668d4641b092",
   "metadata": {},
   "source": [
    "ANSWER 2"
   ]
  },
  {
   "cell_type": "code",
   "execution_count": null,
   "id": "8972a2e2-759f-4c49-a827-f8191220468c",
   "metadata": {},
   "outputs": [],
   "source": []
  }
 ],
 "metadata": {
  "kernelspec": {
   "display_name": "Python 3 (ipykernel)",
   "language": "python",
   "name": "python3"
  },
  "language_info": {
   "codemirror_mode": {
    "name": "ipython",
    "version": 3
   },
   "file_extension": ".py",
   "mimetype": "text/x-python",
   "name": "python",
   "nbconvert_exporter": "python",
   "pygments_lexer": "ipython3",
   "version": "3.12.2"
  }
 },
 "nbformat": 4,
 "nbformat_minor": 5
}
